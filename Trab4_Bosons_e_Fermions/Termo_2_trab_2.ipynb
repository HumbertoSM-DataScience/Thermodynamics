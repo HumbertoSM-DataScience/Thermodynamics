{
  "nbformat": 4,
  "nbformat_minor": 0,
  "metadata": {
    "colab": {
      "name": "Termo 2 trab 2.ipynb",
      "provenance": [],
      "authorship_tag": "ABX9TyOnRiF0pGfG9fqdGzHpk4/P",
      "include_colab_link": true
    },
    "kernelspec": {
      "name": "python3",
      "display_name": "Python 3"
    },
    "language_info": {
      "name": "python"
    }
  },
  "cells": [
    {
      "cell_type": "markdown",
      "metadata": {
        "id": "view-in-github",
        "colab_type": "text"
      },
      "source": [
        "<a href=\"https://colab.research.google.com/github/HumbertoSM-DataScience/Thermodynamics/blob/main/Trab4_Bosons_e_Fermions/Termo_2_trab_2.ipynb\" target=\"_parent\"><img src=\"https://colab.research.google.com/assets/colab-badge.svg\" alt=\"Open In Colab\"/></a>"
      ]
    },
    {
      "cell_type": "markdown",
      "source": [
        "#Bibliotecas e funções básicas"
      ],
      "metadata": {
        "id": "YtIK65O8C6Jk"
      }
    },
    {
      "cell_type": "code",
      "execution_count": null,
      "metadata": {
        "id": "f4sDHtZtsx6w"
      },
      "outputs": [],
      "source": [
        "# Importa as bibliotecas relevantes\n",
        "from tqdm.notebook import trange, tqdm\n",
        "import numpy as np\n",
        "import matplotlib.pyplot as plt\n",
        "import math\n",
        "import mpmath"
      ]
    },
    {
      "cell_type": "code",
      "source": [
        "# Define uma função básica de plot, que pode ser acrescentada ou modificada\n",
        "\n",
        "def plot(x,y,label,xlabel,ylabel,color):\n",
        "  fig,ax = plt.subplots(1,figsize=(6,4), dpi=150)\n",
        "  ax.plot(x,y,label=label,color=color)\n",
        "  ax.set(xlabel=xlabel,ylabel=ylabel)\n",
        "  ax.legend()\n",
        "  ax.tick_params(direction='in')\n",
        "  return fig,ax"
      ],
      "metadata": {
        "id": "dlZHkEPKpM1U"
      },
      "execution_count": null,
      "outputs": []
    },
    {
      "cell_type": "markdown",
      "source": [
        "# Definição da função Polilogarítmica"
      ],
      "metadata": {
        "id": "rHZLJJtVCEB_"
      }
    },
    {
      "cell_type": "code",
      "source": [
        "# Começamos definindo a função polilogaritmica\n",
        "# Argumentos: iter é quantas vezes vamos iterar a função\n",
        "# A parte comentada serve para debug da função\n",
        "\n",
        "def polylogh(n,z,iter=10000, erro = 1e-6, verbose = 0, historico = 0):\n",
        "  termo=soma=0\n",
        "  hist = []\n",
        "  for k in (range(1,iter)):\n",
        "    termo = z**k / k**n\n",
        "    soma += termo\n",
        "  #  hist.append((termo,soma))\n",
        "  #   if verbose ==1:\n",
        "  #     if termo/soma < erro:\n",
        "  #       print(f\"A função para n = {n} e z = {z} convergiu em {soma:.3f} em {len(hist)} passos\")\n",
        "  #       break\n",
        "  #     if termo/soma > 1e5:\n",
        "  #       print(f\"A função diverge rapidamente\")\n",
        "  #       break\n",
        "  \n",
        "  # if historico == 1:\n",
        "  #   return soma, hist\n",
        "  else:\n",
        "    return soma\n"
      ],
      "metadata": {
        "id": "7ZVURsBzMIdQ"
      },
      "execution_count": null,
      "outputs": []
    },
    {
      "cell_type": "code",
      "source": [
        "# Define a função polilogarítmica do pacote mpmath, tomando o valor numérico da parte real\n",
        "def polylogp(n,z):\n",
        "  return mpmath.fp.polylog(n,z).real"
      ],
      "metadata": {
        "id": "BQM1xkDzIkUM"
      },
      "execution_count": null,
      "outputs": []
    },
    {
      "cell_type": "code",
      "source": [
        "# Vetoriza ambas as funções para fácil uso com arrays numpy, a função vetorizada recebe um prefixo v, a função definida manualmente sem um sufixo h (de Humberto), enquanto \n",
        "# a definida pelo pacote tem um sufixo p (de pacote)\n",
        "vpolylogh = np.vectorize(polylogh)\n",
        "vpolylogp = np.vectorize(polylogp)"
      ],
      "metadata": {
        "id": "b7JMUIpGcE8c"
      },
      "execution_count": null,
      "outputs": []
    },
    {
      "cell_type": "code",
      "source": [
        "# Calcula os resultados de Li para n=3/2 e n=5/2 em 0<z<1\n",
        "espaco = np.linspace(0,1,1000)\n",
        "res3_2 = vpolylogp(1.5,espaco)\n",
        "res5_2 = vpolylogp(2.5,espaco)"
      ],
      "metadata": {
        "id": "BQ2GZWf0cSol"
      },
      "execution_count": null,
      "outputs": []
    },
    {
      "cell_type": "code",
      "source": [
        "# Plota os resultados\n",
        "ax,fig=plt.subplots(1,1,figsize=(6,4),dpi=150)\n",
        "plt.plot(espaco, res3_2, label=r\"$Li_{3/2}(z)$\")\n",
        "plt.plot(espaco, res5_2,label=r\"$Li_{5/2}(z)$\")\n",
        "plt.legend(loc='upper left')\n",
        "plt.xlabel(\"z\")\n",
        "plt.tick_params(direction='in')\n",
        "plt.xlim(0,1)\n",
        "plt.ylim(0,3)"
      ],
      "metadata": {
        "id": "VEppFJN6LkHo"
      },
      "execution_count": null,
      "outputs": []
    },
    {
      "cell_type": "markdown",
      "source": [
        "#Gráfico de z(T)"
      ],
      "metadata": {
        "id": "cNAVX16iCM4H"
      }
    },
    {
      "cell_type": "code",
      "source": [
        "# usamos a função 30.62 para calcular numericamente os valores de T(z), e invertemos para plotar o géfico, definindo que z(T)=1 para T/Tc<1\n",
        "# A função T faz o papel de T/Tc\n",
        "\n",
        "def T(z):\n",
        "  if z>=1:\n",
        "    return 0\n",
        "  else:\n",
        "    return (2.612375348685488/vpolylogp(3/2,z))**(2/3)\n",
        "T=np.vectorize(T)"
      ],
      "metadata": {
        "id": "OGW03g9Mzk4M"
      },
      "execution_count": null,
      "outputs": []
    },
    {
      "cell_type": "code",
      "source": [
        "# Calcula para o espaço de z entre 0 e 1 e plota]\n",
        "\n",
        "zspace=np.linspace(0.5,1,1000)\n",
        "T_res = T(zspace)\n",
        "fig,ax = plot(T_res,zspace,\"z\",r\"$T/T_c$\",r\"$z=e^{\\beta\\mu}$\",'b');\n",
        "# ax.scatter(T_res,zspace)\n",
        "ax.set(xlim=(0.1,2),ylim=(0,1.2))\n",
        "ax.set(xticks=[0,0.5,1,1.5,2],yticks=[0.5,1])\n",
        "ax.vlines(1,0,1,'k','--')"
      ],
      "metadata": {
        "id": "K6v59Mle0Pvv"
      },
      "execution_count": null,
      "outputs": []
    },
    {
      "cell_type": "markdown",
      "source": [
        "# $U(z)$ de bósons"
      ],
      "metadata": {
        "id": "e0DCqRyhCvth"
      }
    },
    {
      "cell_type": "code",
      "source": [
        "# A função T faz o papel de T/Tc\n",
        "def T(z):\n",
        "  return (2.612375348685488/vpolylogp(3/2,z))**(2/3)\n",
        "T=np.vectorize(T)\n",
        "\n",
        "def Uz(z):\n",
        "  # em T>Tc , z<1\n",
        "  return (3/2)*T(z)*(vpolylogp(5/2,z)/vpolylogp(3/2,z))\n",
        "Uz = np.vectorize(Uz)\n",
        "\n",
        "def Ut(Tspace):\n",
        "  # em T<Tc , z>1\n",
        "  return (0.77)*Tspace**(5/2)\n",
        "Ut = np.vectorize(Ut)     \n"
      ],
      "metadata": {
        "id": "7hEHYlbsBwO4"
      },
      "execution_count": null,
      "outputs": []
    },
    {
      "cell_type": "code",
      "source": [
        "# Calculamos para z entre 0 e 1\n",
        "zspace = np.linspace(0.01,1,10000)\n",
        "Tspace = np.linspace(0,1,10000)\n",
        "T_res = T(zspace)\n",
        "U_res = Uz(zspace)\n",
        "x_space = np.linspace(0,10,100)"
      ],
      "metadata": {
        "id": "AVI3krC0u1D7"
      },
      "execution_count": null,
      "outputs": []
    },
    {
      "cell_type": "code",
      "source": [
        "# SEM ZOOM\n",
        "# Plotamos a função obtida\n",
        "fig,ax = plot(Tspace,Ut(Tspace),\"$U$\",r\"$T/T_c$\",r\"$U/(Nk_bT_c)$\",\"b\");\n",
        "ax.plot(x_space,(3/2)*x_space,'--k')\n",
        "ax.plot(T_res,U_res,'b')\n",
        "\n",
        "ax.annotate(r\"$U=\\frac{3}{2}NK_bT \\to$\",(1.3,4.5),xycoords='data')\n",
        "# ax.annotate(r\"$z\\to0$\",(2,-1.5),xycoords='data')\n",
        "ax.set(xlim=(0,10),ylim=(0,20))\n",
        "# ax.set(xticks=[0,.5,1,1.5,2],yticks=[0,1,2])\n",
        "# ax.axhline(0,color='k')\n",
        "ax.vlines(1,0,0.77,'k')\n",
        "ax.set(title=\"$U(z)$ para gás de Bósons\");\n",
        "\n"
      ],
      "metadata": {
        "id": "QW37pRyVu2ny"
      },
      "execution_count": null,
      "outputs": []
    },
    {
      "cell_type": "code",
      "source": [
        "# COM ZOOM\n",
        "# Plotamos a função obtida\n",
        "fig,ax = plot(Tspace,Ut(Tspace),\"$U$\",r\"$T/T_c$\",r\"$U/(Nk_bT_c)$\",\"b\");\n",
        "ax.plot(x_space,(3/2)*x_space,'--k')\n",
        "ax.plot(T_res,U_res,'b')\n",
        "\n",
        "# ax.annotate(r\"$U=\\frac{3}{2}NK_bT \\to$\",(1.3,4.5),xycoords='data')\n",
        "# ax.annotate(r\"$z\\to0$\",(2,-1.5),xycoords='data')\n",
        "ax.set(xlim=(0,2),ylim=(0,2))\n",
        "# ax.set(xticks=[0,.5,1,1.5,2],yticks=[0,1,2])\n",
        "# ax.axhline(0,color='k')\n",
        "ax.vlines(1,0,0.77,'k')\n",
        "ax.set(title=\"$U(z)$ para gás de Bósons\");"
      ],
      "metadata": {
        "id": "rVVgtfTUi9mv"
      },
      "execution_count": null,
      "outputs": []
    },
    {
      "cell_type": "markdown",
      "source": [
        "# $C_v(z)$ de bósons"
      ],
      "metadata": {
        "id": "bSIX9FdBgjJU"
      }
    },
    {
      "cell_type": "code",
      "source": [
        "# A função T faz o papel de T/Tc\n",
        "def T(z):\n",
        "  return (2.612375348685488/vpolylogp(3/2,z))**(2/3)\n",
        "T=np.vectorize(T)\n",
        "\n",
        "def Cz(z):\n",
        "  # em T>Tc , z<1\n",
        "  return (3/2)*((5/2)*(vpolylogp(5/2,z)/vpolylogp(3/2,z))-(3/2)*((vpolylogp(3/2,z)/vpolylogp(1/2,z))))\n",
        "Cz = np.vectorize(Cz)\n",
        "\n",
        "def Ct(Tspace):\n",
        "  # em T<Tc , z>1\n",
        "  return (0.77)*(5/2)*(Tspace**(3/2))\n",
        "Ct = np.vectorize(Ct)     \n"
      ],
      "metadata": {
        "id": "fSgt5yRvi3zo"
      },
      "execution_count": null,
      "outputs": []
    },
    {
      "cell_type": "code",
      "source": [
        "# Calculamos para z entre 0 e 1\n",
        "zspace = np.linspace(.6,0.99999,10000)\n",
        "Tspace = np.linspace(0,1,10000)\n",
        "T_res = T(zspace)\n",
        "C_res = Cz(zspace)\n"
      ],
      "metadata": {
        "id": "uFSSrs9ni4mQ"
      },
      "execution_count": null,
      "outputs": []
    },
    {
      "cell_type": "code",
      "source": [
        "# Plotamos a função obtida\n",
        "fig,ax = plot(Tspace,Ct(Tspace),\"$C_v$\",r\"$T/T_c$\",r\"$C_v/(Nk_b)$\",\"b\");\n",
        "\n",
        "ax.plot(T_res,C_res,'b')\n",
        "\n",
        "ax.annotate(r\"$C_v=\\frac{3}{2}NK_b \\to$\",(1.5,1.2),xycoords='data')\n",
        "#ax.annotate(r\"$z\\to0$\",(2,-1.5),xycoords='data')\n",
        "ax.set(xlim=(0,2),ylim=(0,2.5))\n",
        "ax.set(xticks=[0,.5,1,1.5,2],yticks=[0,1,2])\n",
        "ax.axhline(3/2,color='k',ls='--')\n",
        "ax.vlines(1,0,1.925,'k','--')\n",
        "ax.set(title=\"$C_v(z)$ para gás de Bósons\");"
      ],
      "metadata": {
        "id": "0M-KCdIgi6kH"
      },
      "execution_count": null,
      "outputs": []
    },
    {
      "cell_type": "markdown",
      "source": [
        "#$\\mu(z)$ de Férmions"
      ],
      "metadata": {
        "id": "0k8Z326iCXWQ"
      }
    },
    {
      "cell_type": "code",
      "source": [
        "# Definimos o potencial químico para Férmions e Bósons em função de z\n",
        "# A função T faz o papel de T*kb/Ef\n",
        "def T(z):\n",
        "  return (-(4/(3*np.sqrt(np.pi))*(1/vpolylogp(3/2,-z))))**(2/3)\n",
        "T = np.vectorize(T)\n",
        "\n",
        "# A função muF faz o papal de mu/Ef\n",
        "def muF(z):\n",
        "  return T(z)*np.log(z)\n",
        "muF = np.vectorize(muF)\n",
        "\n"
      ],
      "metadata": {
        "id": "n5RZo6AU6_bP"
      },
      "execution_count": null,
      "outputs": []
    },
    {
      "cell_type": "code",
      "source": [
        "# Calculamos para z entre 0 e infinito, aqui simulado numéricamente como um espaço logarítmico entre 10^-1 e 10^100\n",
        "zspace = np.logspace(-1,100,10000)\n",
        "T_res = T(zspace)\n",
        "muF_res = muF(zspace)\n"
      ],
      "metadata": {
        "id": "IjCIVPnT-mla"
      },
      "execution_count": null,
      "outputs": []
    },
    {
      "cell_type": "code",
      "source": [
        "# Plotamos a função obtida\n",
        "fig,ax = plot(T_res,muF_res,\"$\\mu(z)$\",r\"$ T/ T_f$\",\"$\\mu(z)/\\epsilon_f$\",\"b\");\n",
        "ax.set(xlim=(0,2),ylim=(-2,2))\n",
        "ax.set(xticks=[0,1,2],yticks=[-2,-1,0,1,2])\n",
        "ax.axhline(0,color='k')\n",
        "ax.vlines(1,-2,0,'k','--')\n",
        "ax.set(title=\"$\\mu(z)$ para gás de Férmi\")\n",
        "ax.annotate(\"$z=1$\",(1,0.2),xycoords='data')\n",
        "ax.annotate(r\"$z\\to0$\",(1.8,-1.5),xycoords='data')"
      ],
      "metadata": {
        "id": "IDdO5fhx_c73"
      },
      "execution_count": null,
      "outputs": []
    },
    {
      "cell_type": "markdown",
      "source": [
        "# $\\mu(z)$ de Bósons"
      ],
      "metadata": {
        "id": "yL0r0GDVCjvb"
      }
    },
    {
      "cell_type": "code",
      "source": [
        "# Agora definimos o mu e T/Tc para Bósons\n",
        "# A função T faz o papel de T/Tc\n",
        "def T(z):\n",
        "  if z>=1:\n",
        "    return 0.0\n",
        "  else:\n",
        "    return (2.612375348685488/vpolylogp(3/2,z))**(2/3)\n",
        "T=np.vectorize(T)\n",
        "\n",
        "# A função muB faz o papel de mu/(kb*Tc)\n",
        "def muB(z):\n",
        "  return T(z)*np.log(z)\n",
        "muB = np.vectorize(muB)"
      ],
      "metadata": {
        "id": "Q4E--AdpN6zt"
      },
      "execution_count": null,
      "outputs": []
    },
    {
      "cell_type": "code",
      "source": [
        "# Calculamos para z entre 0 e 1\n",
        "zspace = np.linspace(0.4,1,10000)\n",
        "T_res = T(zspace)\n",
        "muB_res = muB(zspace)"
      ],
      "metadata": {
        "id": "V9E70xhEoLSm"
      },
      "execution_count": null,
      "outputs": []
    },
    {
      "cell_type": "code",
      "source": [
        "# Plotamos a função obtida\n",
        "fig,ax = plot(T_res,muB_res,\"$\\mu(z)$\",r\"$T/T_c$\",\"$\\mu(z)/k_bT_c$\",\"b\");\n",
        "ax.annotate(\"$z=1$\",(1,0.2),xycoords='data')\n",
        "ax.annotate(r\"$z\\to0$\",(2,-1.5),xycoords='data')\n",
        "ax.set(xlim=(0.5,3),ylim=(-2,1))\n",
        "ax.set(xticks=[0,1,2],yticks=[-1,0,1])\n",
        "ax.axhline(0,color='k')\n",
        "ax.vlines(1,-2,0,'k','--')\n",
        "ax.set(title=\"$\\mu(z)$ para gás de Bósons\");"
      ],
      "metadata": {
        "id": "YSo1Fm3cpLhN"
      },
      "execution_count": null,
      "outputs": []
    },
    {
      "cell_type": "markdown",
      "source": [
        "# $U(z)$ pelo somatório"
      ],
      "metadata": {
        "id": "3R1mk4mpPlyX"
      }
    },
    {
      "cell_type": "code",
      "source": [
        "# Definimos T* como tspace entre 0 e 1\n",
        "tspace = np.linspace(0,1,1000)\n",
        "\n",
        "resposta =[]\n",
        "num=0\n",
        "den=0\n",
        "e0=1\n",
        "# fazemos o somatório para cada T\n",
        "for t in tqdm(tspace):\n",
        "  for k in range(1,1000):\n",
        "    # Separamos as partes do numerador e denominador, e vamos acumulando o somatório em k de maneira independente em cada\n",
        "    num += (np.exp(e0*k**2/t)-1)**(-1)*e0*k**2\n",
        "    den += (np.exp(e0*k**2/t)-1)**(-1)\n",
        "  # Para a resposta, apenas dividimos o numerador pelo denominador\n",
        "  resp=(num/den)\n",
        "  # realizamos um ajuste manual para corresponder à escala esperada e guardamos a resposta em uma lista\n",
        "  resp = (resp-1)*16\n",
        "  resposta.append(resp)\n",
        "# Plotamos a resposta\n",
        "plot(tspace,resposta,\"U pelo somatório\",\"$T^*$\",\"$U / N k_b T_c$\",\"b\")"
      ],
      "metadata": {
        "id": "l_MGaVjSwFgq"
      },
      "execution_count": null,
      "outputs": []
    },
    {
      "cell_type": "code",
      "source": [
        "# Plotamos as funções  obtidas\n",
        "fig,ax = plot(Tspace,Ut(Tspace),\"$U$ por integral\",r\"$T/T_c$\",r\"$U/(Nk_bT_c)$\",\"b\");\n",
        "ax.plot(x_space,(3/2)*x_space,'--k')\n",
        "ax.plot(T_res,U_res,'b')\n",
        "ax.plot(tspace,resposta,'r',label='$U$ pelo somatório')\n",
        "\n",
        "ax.annotate(r\"$U=\\frac{3}{2}NK_bT \\to$\",(0.7,1.4),xycoords='data')\n",
        "# ax.annotate(r\"$z\\to0$\",(2,-1.5),xycoords='data')\n",
        "ax.set(xlim=(0,1),ylim=(-0.1,1.5))\n",
        "# ax.set(xticks=[0,.5,1,1.5,2],yticks=[0,1,2])\n",
        "# ax.axhline(0,color='k')\n",
        "ax.vlines(1,0,0.77,'k')\n",
        "ax.set(title=\"$U(z)$ para gás de Bósons\");\n",
        "ax.legend()"
      ],
      "metadata": {
        "id": "UVkKtwoG-Mp0"
      },
      "execution_count": null,
      "outputs": []
    }
  ]
}